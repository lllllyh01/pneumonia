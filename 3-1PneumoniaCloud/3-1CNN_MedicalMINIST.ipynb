{
 "cells": [
  {
   "cell_type": "code",
   "execution_count": 1,
   "id": "a387fc55",
   "metadata": {},
   "outputs": [
    {
     "name": "stdout",
     "output_type": "stream",
     "text": [
      "Collecting split-folders\n",
      "  Downloading split_folders-0.5.1-py3-none-any.whl (8.4 kB)\n",
      "Installing collected packages: split-folders\n",
      "Successfully installed split-folders-0.5.1\n"
     ]
    }
   ],
   "source": [
    "!pip install split-folders"
   ]
  },
  {
   "cell_type": "code",
   "execution_count": null,
   "id": "909bc61b",
   "metadata": {},
   "outputs": [
    {
     "name": "stderr",
     "output_type": "stream",
     "text": [
      "Copying files: 27087 files [05:45, 73.50 files/s] "
     ]
    }
   ],
   "source": [
    "import splitfolders\n",
    "input_folder = \"D:/College/2022NTU/datasets/MedicalMINIST\"\n",
    "output = \"D:/College/2022NTU/datasets/MedicalMINIST\" #where you want the split datasets saved. one will be created if it does not exist or none is set\n",
    "\n",
    "splitfolders.ratio(input_folder, output=output, seed=42, ratio=(.7, .1, .2)) # ratio of split are in order of train/val/test. You can change to whatever you want. For train/val sets only, you could do .75, .25 for example."
   ]
  },
  {
   "cell_type": "code",
   "execution_count": null,
   "id": "4b57ef8e",
   "metadata": {},
   "outputs": [],
   "source": [
    "import tensorflow.keras as keras\n",
    "from tensorflow.keras.datasets import mnist\n",
    "from tensorflow.keras.models import Sequential\n",
    "from tensorflow.keras.layers import Dense, Dropout, Flatten\n",
    "from tensorflow.keras.layers import Conv2D, MaxPooling2D\n",
    "from tensorflow.keras.preprocessing.image import ImageDataGenerator\n",
    "import tensorflow as tf\n",
    "import os\n",
    "train_loader = \"D:/College/2022NTU/datasets/MedicalMINIST/train\"\n",
    "test_loader = \"D:/College/2022NTU/datasets/MedicalMINIST/test\"\n",
    "batch_size = 2\n",
    "Generator = ImageDataGenerator()\n",
    "train_set = Generator.flow_from_directory(train_loader, (150, 150), batch_size=batch_size)\n",
    "test_set = Generator.flow_from_directory(test_loader, (150, 150), batch_size=batch_size)\n",
    "\n",
    "num_classes = len([i for i in os.listdir(train_loader)])"
   ]
  },
  {
   "cell_type": "code",
   "execution_count": null,
   "id": "0eb9f3f1",
   "metadata": {},
   "outputs": [],
   "source": [
    "model_minist = Sequential()\n",
    "\n",
    "model_minist.add(Conv2D(32, (3, 3), input_shape=(150, 150, 3), activation='relu'))\n",
    "model_minist.add(MaxPooling2D(pool_size=(2, 2), strides=2))\n",
    "model_minist.add(Dropout(0.05))\n",
    "\n",
    "model_minist.add(Conv2D(32, (3, 3), activation='relu'))\n",
    "model_minist.add(MaxPooling2D(pool_size=(2, 2), strides=2))\n",
    "model_minist.add(Dropout(0.05))\n",
    "\n",
    "model_minist.add(Conv2D(64, (3, 3),activation='relu'))\n",
    "model_minist.add(MaxPooling2D(pool_size=(2, 2), strides=2))\n",
    "model_minist.add(Dropout(0.2))\n",
    "\n",
    "model_minist.add(Conv2D(64, (3, 3), activation='relu'))\n",
    "model_minist.add(MaxPooling2D(pool_size=(2, 2), strides=2))\n",
    "model_minist.add(Dropout(0.2))\n",
    "\n",
    "model_minist.add(Flatten())\n",
    "\n",
    "model_minist.add(Dense(128, activation='relu'))\n",
    "model_minist.add(Dropout(0.2))\n",
    "\n",
    "model_minist.add(Dense(64, activation='relu'))\n",
    "model_minist.add(Dropout(0.2))\n",
    "\n",
    "model_minist.add(Dense(num_classes, activation=\"softmax\"))\n",
    "model_minist.summary()"
   ]
  },
  {
   "cell_type": "code",
   "execution_count": null,
   "id": "f063a7b9",
   "metadata": {},
   "outputs": [],
   "source": []
  }
 ],
 "metadata": {
  "kernelspec": {
   "display_name": "Python 3 (ipykernel)",
   "language": "python",
   "name": "python3"
  },
  "language_info": {
   "codemirror_mode": {
    "name": "ipython",
    "version": 3
   },
   "file_extension": ".py",
   "mimetype": "text/x-python",
   "name": "python",
   "nbconvert_exporter": "python",
   "pygments_lexer": "ipython3",
   "version": "3.8.5"
  }
 },
 "nbformat": 4,
 "nbformat_minor": 5
}
